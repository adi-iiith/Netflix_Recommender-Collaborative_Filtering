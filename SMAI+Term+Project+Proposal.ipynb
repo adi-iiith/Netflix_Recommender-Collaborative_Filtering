{
 "cells": [
  {
   "cell_type": "markdown",
   "metadata": {},
   "source": [
    "<h2>Project Id and title</h2><br>\n",
    "29. A Multifaceted Collaborative Filtering(CF) Model : Recommendation Systems"
   ]
  },
  {
   "cell_type": "markdown",
   "metadata": {},
   "source": [
    "<h3>Github link</h3><br>\n",
    "https://github.com/adi-iiith/Netflix_Recommender-Collaborative_Filtering"
   ]
  },
  {
   "cell_type": "markdown",
   "metadata": {},
   "source": [
    "<h3> Team Members </h3><br>\n",
    "1. Aditya Tewari - 2018201082\n",
    "2. Akshansh Sharma - 2018201081\n",
    "3. Aishwarya Mathur - 2018202005\n",
    "4. Sandeep Gupta - 2018201076"
   ]
  },
  {
   "cell_type": "markdown",
   "metadata": {},
   "source": [
    "<h3>Main goals of the project</h3><br>\n",
    "1. To harness the power of Collaborative Filtering in order to recommend titles on Netflix to the users.\n",
    "2. A better evaluation technique for our model"
   ]
  },
  {
   "cell_type": "markdown",
   "metadata": {},
   "source": [
    "<h3>Problem definition</h3><br>\n",
    "Recommender Systems are used as a tool in machine learning to make some informed decision about recommending certain product. These systems often rely on Collaborating Filtering (CF), where past transactions are analyzed in order to\n",
    "establish connections between users and products. We will attempt to use this in order to apply recommendation on Netflix data."
   ]
  },
  {
   "cell_type": "markdown",
   "metadata": {},
   "source": [
    "<h3>Results of the project</h3><br>\n",
    "1. A recommender system which is capable of recommending Netflix titles to the users.\n",
    "2. A metric on which we evaluate this system's recommendations."
   ]
  },
  {
   "cell_type": "markdown",
   "metadata": {},
   "source": [
    "<h3>Tasks for each member</h3><br>\n",
    "As of now, each of us is exploring the topic and gathering information, and learning about recommender systems and their types in relation to our project. Workload division would be done as soon as we familiarize ourselves with the essential background of recommender systems."
   ]
  },
  {
   "cell_type": "markdown",
   "metadata": {},
   "source": [
    "<h3>Project milestones and Expected timeline</h3><br>\n",
    "We expect to start working on our project from 17th March (right after mid sem 2). We are determined to finish our work on time and to also adhere to the guidelines as mentioned. "
   ]
  }
 ],
 "metadata": {
  "kernelspec": {
   "display_name": "Python 2",
   "language": "python",
   "name": "python2"
  },
  "language_info": {
   "codemirror_mode": {
    "name": "ipython",
    "version": 2
   },
   "file_extension": ".py",
   "mimetype": "text/x-python",
   "name": "python",
   "nbconvert_exporter": "python",
   "pygments_lexer": "ipython2",
   "version": "2.7.14"
  }
 },
 "nbformat": 4,
 "nbformat_minor": 2
}
