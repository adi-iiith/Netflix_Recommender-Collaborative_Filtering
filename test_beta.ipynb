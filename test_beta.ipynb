{
 "cells": [
  {
   "cell_type": "code",
   "execution_count": 42,
   "metadata": {},
   "outputs": [],
   "source": [
    "import numpy as np\n",
    "from scipy.sparse import csr_matrix\n",
    "import pandas as pd\n",
    "from datetime import datetime\n",
    "import os\n",
    "import itertools\n",
    "import math\n",
    "from random import random"
   ]
  },
  {
   "cell_type": "code",
   "execution_count": 43,
   "metadata": {},
   "outputs": [],
   "source": [
    "npzfile = np.load(\"../predictions.npz\")"
   ]
  },
  {
   "cell_type": "code",
   "execution_count": 44,
   "metadata": {},
   "outputs": [],
   "source": [
    "user = npzfile['arr_0'].tolist()\n",
    "item = npzfile['arr_1'].tolist()\n",
    "rating = npzfile['arr_2'].tolist()"
   ]
  },
  {
   "cell_type": "code",
   "execution_count": 84,
   "metadata": {},
   "outputs": [
    {
     "data": {
      "text/plain": [
       "[[4.346704398358171, '286'],\n",
       " [3.922339620784242, '604'],\n",
       " [3.5140981163559077, '318'],\n",
       " [3.383857121190669, '172'],\n",
       " [3.038413068601718, '484'],\n",
       " [2.9918176517359627, '173']]"
      ]
     },
     "execution_count": 84,
     "metadata": {},
     "output_type": "execute_result"
    }
   ],
   "source": [
    "user_movie = dict()\n",
    "for i in range(len(user)):\n",
    "    temp = [rating[i],item[i]]\n",
    "    try :\n",
    "        user_movie[user[i]].append(temp)\n",
    "        user_movie[user[i]].sort(reverse=True)\n",
    "    except KeyError :\n",
    "        user_movie[user[i]] = list()\n",
    "        user_movie[user[i]].append(temp)\n",
    "    \n",
    "user_movie['202']"
   ]
  },
  {
   "cell_type": "code",
   "execution_count": 53,
   "metadata": {},
   "outputs": [],
   "source": [
    "file_name = \"../input/u.data\"\n",
    "watched_movies = dict()\n",
    "def parse_line(line):\n",
    "    line = line.split(\"\\t\")\n",
    "    uid, iid, r, timestamp = (line[i].strip() for i in range(4))\n",
    "    return uid, iid, float(r), timestamp\n",
    "\n",
    "def Read_Data(file_name,shuffle=True) :\n",
    "    global watched_movies\n",
    "    with open(os.path.expanduser(file_name)) as f:\n",
    "        raw_ratings = [parse_line(line) for line in itertools.islice(f, 0, None)]\n",
    "    if shuffle:\n",
    "        np.random.seed(73)\n",
    "        np.random.shuffle(raw_ratings)\n",
    "\n",
    "    raw_len = len(raw_ratings)\n",
    "    train = raw_ratings[:math.ceil(raw_len*0.8)]\n",
    "    test = raw_ratings[math.ceil(raw_len*0.8):]\n",
    "    for i in train :\n",
    "        try :\n",
    "            watched_movies[i[0]].append(i[1])\n",
    "        except KeyError :\n",
    "            watched_movies[i[0]] = list()\n",
    "            watched_movies[i[0]].append(i[1])\n",
    "            \n",
    "            "
   ]
  },
  {
   "cell_type": "code",
   "execution_count": 54,
   "metadata": {
    "scrolled": true
   },
   "outputs": [],
   "source": [
    "Read_Data(file_name,True)"
   ]
  },
  {
   "cell_type": "code",
   "execution_count": 55,
   "metadata": {},
   "outputs": [
    {
     "data": {
      "text/plain": [
       "['242',\n",
       " '172',\n",
       " '1',\n",
       " '604',\n",
       " '191',\n",
       " '258',\n",
       " '283',\n",
       " '481',\n",
       " '96',\n",
       " '286',\n",
       " '423',\n",
       " '173',\n",
       " '179']"
      ]
     },
     "execution_count": 55,
     "metadata": {},
     "output_type": "execute_result"
    }
   ],
   "source": [
    "watched_movies['202']"
   ]
  },
  {
   "cell_type": "code",
   "execution_count": 139,
   "metadata": {},
   "outputs": [],
   "source": [
    "f = \"../input/u.item\"\n",
    "movie_dict = dict()\n",
    "def Read_Data_pipe(file_name,shuffle=True) :\n",
    "    global movie_dict\n",
    "    global watched_movies\n",
    "    with open(os.path.expanduser(file_name)) as f:\n",
    "        raw_ratings = [parse_line_pipe(line) for line in itertools.islice(f, 0, None)]\n",
    "    for i in range(len(raw_ratings)):\n",
    "        movie_dict[raw_ratings[i][0]] = raw_ratings[i][1:]\n",
    "    return raw_ratings\n",
    "def parse_line_pipe(line):\n",
    "    line = line.split(\"|\")\n",
    "    return line\n",
    "mdata = Read_Data_pipe(f)"
   ]
  },
  {
   "cell_type": "code",
   "execution_count": 145,
   "metadata": {},
   "outputs": [],
   "source": [
    "seen_by_user = dict()\n",
    "pred_for_user = dict()\n",
    "for k in user_movie :\n",
    "    mov = user_movie[k]\n",
    "    for i in mov:\n",
    "        ele = i[1]\n",
    "        if ele not in watched_movies[k]:\n",
    "            m_predict = movie_dict[ele]\n",
    "            try :\n",
    "                pred_for_user[k].append(m_predict)\n",
    "            except KeyError :\n",
    "                pred_for_user[k] = list()\n",
    "                pred_for_user[k].append(m_predict)                    \n",
    "        else:\n",
    "            m_seen = movie_dict[ele]\n",
    "            try :\n",
    "                seen_by_user[k].append(m_seen)\n",
    "            except KeyError :\n",
    "                seen_by_user[k] = list()\n",
    "                seen_by_user[k].append(m_seen)"
   ]
  },
  {
   "cell_type": "code",
   "execution_count": 167,
   "metadata": {},
   "outputs": [
    {
     "name": "stdout",
     "output_type": "stream",
     "text": [
      "[['Heathers (1989)', '01-Jan-1989', '', 'http://us.imdb.com/M/title-exact?Heathers%20(1989)', '0', '0', '0', '0', '0', '1', '0', '0', '0', '0', '0', '0', '0', '0', '0', '0', '0', '0', '0\\n'], ['Raising Arizona (1987)', '01-Jan-1987', '', 'http://us.imdb.com/M/title-exact?Raising%20Arizona%20(1987)', '0', '0', '0', '0', '0', '1', '0', '0', '0', '0', '0', '0', '0', '0', '0', '0', '0', '0', '0\\n'], ['Man Who Would Be King, The (1975)', '01-Jan-1975', '', 'http://us.imdb.com/M/title-exact?Man%20Who%20Would%20Be%20King,%20The%20(1975)', '0', '0', '1', '0', '0', '0', '0', '0', '0', '0', '0', '0', '0', '0', '0', '0', '0', '0', '0\\n'], ['Aristocats, The (1970)', '01-Jan-1970', '', 'http://us.imdb.com/M/title-exact?Aristocats,%20The%20(1970)', '0', '0', '0', '1', '1', '0', '0', '0', '0', '0', '0', '0', '0', '0', '0', '0', '0', '0', '0\\n'], ['Terminator 2: Judgment Day (1991)', '01-Jan-1991', '', 'http://us.imdb.com/M/title-exact?Terminator%202:%20Judgment%20Day%20(1991)', '0', '1', '0', '0', '0', '0', '0', '0', '0', '0', '0', '0', '0', '0', '0', '1', '1', '0', '0\\n'], ['Mighty Aphrodite (1995)', '30-Oct-1995', '', 'http://us.imdb.com/M/title-exact?Mighty%20Aphrodite%20(1995)', '0', '0', '0', '0', '0', '1', '0', '0', '0', '0', '0', '0', '0', '0', '0', '0', '0', '0', '0\\n'], ['Star Trek VI: The Undiscovered Country (1991)', '01-Jan-1991', '', 'http://us.imdb.com/M/title-exact?Star%20Trek%20VI:%20The%20Undiscovered%20Country%20(1991)', '0', '1', '1', '0', '0', '0', '0', '0', '0', '0', '0', '0', '0', '0', '0', '1', '0', '0', '0\\n'], ['Sense and Sensibility (1995)', '01-Jan-1995', '', 'http://us.imdb.com/M/title-exact?Sense%20and%20Sensibility%20(1995)', '0', '0', '0', '0', '0', '0', '0', '0', '1', '0', '0', '0', '0', '0', '1', '0', '0', '0', '0\\n']]\n"
     ]
    }
   ],
   "source": [
    "print((pred_for_user['23'])) # i is the item(movie) and j is the corresponding entry for that movie"
   ]
  },
  {
   "cell_type": "code",
   "execution_count": 168,
   "metadata": {},
   "outputs": [
    {
     "name": "stdout",
     "output_type": "stream",
     "text": [
      "[['Die Hard (1988)', '01-Jan-1988', '', 'http://us.imdb.com/M/title-exact?Die%20Hard%20(1988)', '0', '1', '0', '0', '0', '0', '0', '0', '0', '0', '0', '0', '0', '0', '0', '0', '1', '0', '0\\n'], ['Mars Attacks! (1996)', '13-Dec-1996', '', 'http://us.imdb.com/M/title-exact?Mars%20Attacks!%20(1996)', '0', '1', '0', '0', '0', '1', '0', '0', '0', '0', '0', '0', '0', '0', '0', '1', '0', '1', '0\\n'], ['Aliens (1986)', '01-Jan-1986', '', 'http://us.imdb.com/M/title-exact?Aliens%20(1986)', '0', '1', '0', '0', '0', '0', '0', '0', '0', '0', '0', '0', '0', '0', '0', '1', '1', '1', '0\\n'], ['Blade Runner (1982)', '01-Jan-1982', '', 'http://us.imdb.com/M/title-exact?Blade%20Runner%20(1982)', '0', '0', '0', '0', '0', '0', '0', '0', '0', '0', '1', '0', '0', '0', '0', '1', '0', '0', '0\\n'], ['Brazil (1985)', '01-Jan-1985', '', 'http://us.imdb.com/M/title-exact?Brazil%20(1985)', '0', '0', '0', '0', '0', '0', '0', '0', '0', '0', '0', '0', '0', '0', '0', '1', '0', '0', '0\\n'], ['Cinema Paradiso (1988)', '01-Jan-1988', '', 'http://us.imdb.com/M/title-exact?Nuovo%20cinema%20Paradiso%20(1988)', '0', '0', '0', '0', '0', '1', '0', '0', '1', '0', '0', '0', '0', '0', '1', '0', '0', '0', '0\\n'], ['Full Monty, The (1997)', '01-Jan-1997', '', 'http://us.imdb.com/M/title-exact?Full+Monty%2C+The+(1997)', '0', '0', '0', '0', '0', '1', '0', '0', '0', '0', '0', '0', '0', '0', '0', '0', '0', '0', '0\\n'], ['Mary Poppins (1964)', '01-Jan-1964', '', 'http://us.imdb.com/M/title-exact?Mary%20Poppins%20(1964)', '0', '0', '0', '0', '1', '1', '0', '0', '0', '0', '0', '0', '1', '0', '0', '0', '0', '0', '0\\n'], ['Better Off Dead... (1985)', '01-Jan-1985', '', 'http://us.imdb.com/Title?Better+Off+Dead...+(1985)', '0', '0', '0', '0', '0', '1', '0', '0', '0', '0', '0', '0', '0', '0', '0', '0', '0', '0', '0\\n'], ['Addams Family Values (1993)', '01-Jan-1993', '', 'http://us.imdb.com/M/title-exact?Addams%20Family%20Values%20(1993)', '0', '0', '0', '0', '0', '1', '0', '0', '0', '0', '0', '0', '0', '0', '0', '0', '0', '0', '0\\n'], ['Alien (1979)', '01-Jan-1979', '', 'http://us.imdb.com/M/title-exact?Alien%20(1979)', '0', '1', '0', '0', '0', '0', '0', '0', '0', '0', '0', '1', '0', '0', '0', '1', '1', '0', '0\\n'], ['Lawrence of Arabia (1962)', '01-Jan-1962', '', 'http://us.imdb.com/M/title-exact?Lawrence%20of%20Arabia%20(1962)', '0', '0', '1', '0', '0', '0', '0', '0', '0', '0', '0', '0', '0', '0', '0', '0', '0', '1', '0\\n'], ['Star Wars (1977)', '01-Jan-1977', '', 'http://us.imdb.com/M/title-exact?Star%20Wars%20(1977)', '0', '1', '1', '0', '0', '0', '0', '0', '0', '0', '0', '0', '0', '0', '1', '1', '0', '1', '0\\n'], ['True Lies (1994)', '01-Jan-1994', '', 'http://us.imdb.com/M/title-exact?True%20Lies%20(1994)', '0', '1', '1', '0', '0', '1', '0', '0', '0', '0', '0', '0', '0', '0', '1', '0', '0', '0', '0\\n'], [\"One Flew Over the Cuckoo's Nest (1975)\", '01-Jan-1975', '', \"http://us.imdb.com/M/title-exact?One%20Flew%20Over%20the%20Cuckoo's%20Nest%20(1975)\", '0', '0', '0', '0', '0', '0', '0', '0', '1', '0', '0', '0', '0', '0', '0', '0', '0', '0', '0\\n'], ['Othello (1995)', '18-Dec-1995', '', 'http://us.imdb.com/M/title-exact?Othello%20(1995)', '0', '0', '0', '0', '0', '0', '0', '0', '1', '0', '0', '0', '0', '0', '0', '0', '0', '0', '0\\n'], ['Apt Pupil (1998)', '23-Oct-1998', '', 'http://us.imdb.com/Title?Apt+Pupil+(1998)', '0', '0', '0', '0', '0', '0', '0', '0', '1', '0', '0', '0', '0', '0', '0', '0', '1', '0', '0\\n'], ['Lone Star (1996)', '21-Jun-1996', '', 'http://us.imdb.com/M/title-exact?Lone%20Star%20(1996)', '0', '0', '0', '0', '0', '0', '0', '0', '1', '0', '0', '0', '0', '1', '0', '0', '0', '0', '0\\n'], ['Fish Called Wanda, A (1988)', '01-Jan-1988', '', 'http://us.imdb.com/M/title-exact?Fish%20Called%20Wanda,%20A%20(1988)', '0', '0', '0', '0', '0', '1', '0', '0', '0', '0', '0', '0', '0', '0', '0', '0', '0', '0', '0\\n'], ['E.T. the Extra-Terrestrial (1982)', '01-Jan-1982', '', 'http://us.imdb.com/M/title-exact?E%2ET%2E%20the%20Extra-Terrestrial%20%281982%29', '0', '0', '0', '0', '1', '0', '0', '0', '1', '1', '0', '0', '0', '0', '0', '1', '0', '0', '0\\n'], ['Down by Law (1986)', '01-Jan-1986', '', 'http://us.imdb.com/M/title-exact?Down%20by%20Law%20(1986)', '0', '0', '0', '0', '0', '1', '0', '0', '1', '0', '0', '0', '0', '0', '0', '0', '0', '0', '0\\n'], ['Pretty Woman (1990)', '01-Jan-1990', '', 'http://us.imdb.com/M/title-exact?Pretty%20Woman%20(1990)', '0', '0', '0', '0', '0', '1', '0', '0', '0', '0', '0', '0', '0', '0', '1', '0', '0', '0', '0\\n'], ['Stargate (1994)', '01-Jan-1994', '', 'http://us.imdb.com/M/title-exact?Stargate%20(1994)', '0', '1', '1', '0', '0', '0', '0', '0', '0', '0', '0', '0', '0', '0', '0', '1', '0', '0', '0\\n'], [\"Muriel's Wedding (1994)\", '01-Jan-1994', '', \"http://us.imdb.com/M/title-exact?Muriel's%20Wedding%20(1994)\", '0', '0', '0', '0', '0', '1', '0', '0', '0', '0', '0', '0', '0', '0', '1', '0', '0', '0', '0\\n'], ['Lion King, The (1994)', '01-Jan-1994', '', 'http://us.imdb.com/M/title-exact?Lion%20King,%20The%20(1994)', '0', '0', '0', '1', '1', '0', '0', '0', '0', '0', '0', '0', '1', '0', '0', '0', '0', '0', '0\\n'], ['Bonnie and Clyde (1967)', '01-Jan-1967', '', 'http://us.imdb.com/M/title-exact?Bonnie%20and%20Clyde%20(1967)', '0', '0', '0', '0', '0', '0', '1', '0', '1', '0', '0', '0', '0', '0', '0', '0', '0', '0', '0\\n'], ['Princess Bride, The (1987)', '01-Jan-1987', '', 'http://us.imdb.com/M/title-exact?Princess%20Bride,%20The%20(1987)', '0', '1', '1', '0', '0', '1', '0', '0', '0', '0', '0', '0', '0', '0', '1', '0', '0', '0', '0\\n'], ['Ridicule (1996)', '27-Nov-1996', '', 'http://us.imdb.com/M/title-exact?Ridicule%20(1996)', '0', '0', '0', '0', '0', '0', '0', '0', '1', '0', '0', '0', '0', '0', '0', '0', '0', '0', '0\\n'], ['Double vie de V�ronique, La (Double Life of Veronique, The) (1991)', '01-Jan-1991', '', 'http://us.imdb.com/M/title-exact?Podwojne%20zycie%20Weroniki%20(1991)', '0', '0', '0', '0', '0', '0', '0', '0', '1', '0', '0', '0', '0', '0', '0', '0', '0', '0', '0\\n']]\n"
     ]
    }
   ],
   "source": [
    "print(seen_by_user['23'])\n"
   ]
  },
  {
   "cell_type": "code",
   "execution_count": null,
   "metadata": {},
   "outputs": [],
   "source": []
  }
 ],
 "metadata": {
  "kernelspec": {
   "display_name": "Python 3",
   "language": "python",
   "name": "python3"
  },
  "language_info": {
   "codemirror_mode": {
    "name": "ipython",
    "version": 3
   },
   "file_extension": ".py",
   "mimetype": "text/x-python",
   "name": "python",
   "nbconvert_exporter": "python",
   "pygments_lexer": "ipython3",
   "version": "3.7.3"
  }
 },
 "nbformat": 4,
 "nbformat_minor": 2
}
