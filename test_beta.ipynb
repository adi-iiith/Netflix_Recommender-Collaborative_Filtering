{
 "cells": [
  {
   "cell_type": "code",
   "execution_count": 1,
   "metadata": {},
   "outputs": [],
   "source": [
    "import numpy as np\n",
    "from scipy.sparse import csr_matrix\n",
    "import pandas as pd\n",
    "from datetime import datetime\n",
    "import os\n",
    "import itertools\n",
    "import math"
   ]
  },
  {
   "cell_type": "code",
   "execution_count": 2,
   "metadata": {},
   "outputs": [],
   "source": [
    "npzfile = np.load(\"../predictions.npz\")"
   ]
  },
  {
   "cell_type": "code",
   "execution_count": 3,
   "metadata": {},
   "outputs": [],
   "source": [
    "user = npzfile['arr_0'].tolist()\n",
    "item = npzfile['arr_1'].tolist()\n",
    "rating = npzfile['arr_2'].tolist()"
   ]
  },
  {
   "cell_type": "code",
   "execution_count": 5,
   "metadata": {},
   "outputs": [
    {
     "data": {
      "text/plain": [
       "[['575', 4.372536305526758],\n",
       " ['210', 3.892805438006634],\n",
       " ['197', 3.686913843842608]]"
      ]
     },
     "execution_count": 5,
     "metadata": {},
     "output_type": "execute_result"
    }
   ],
   "source": [
    "user_movie = dict()\n",
    "for i in range(len(user)):\n",
    "    temp = [item[i],rating[i]]\n",
    "    try :\n",
    "        user_movie[user[i]].append(temp)\n",
    "    except KeyError :\n",
    "        user_movie[user[i]] = list()\n",
    "        user_movie[user[i]].append(temp)\n",
    "    \n",
    "user_movie['523']"
   ]
  },
  {
   "cell_type": "code",
   "execution_count": 12,
   "metadata": {},
   "outputs": [],
   "source": [
    "file_name = \"../input/u.data\"\n",
    "watched_movies = dict()\n",
    "def parse_line(line):\n",
    "    line = line.split(\"\\t\")\n",
    "    uid, iid, r, timestamp = (line[i].strip() for i in range(4))\n",
    "    return uid, iid, float(r), timestamp\n",
    "\n",
    "def Read_Data(file_name,shuffle=True) :\n",
    "    global watched_movies\n",
    "    with open(os.path.expanduser(file_name)) as f:\n",
    "        raw_ratings = [parse_line(line) for line in itertools.islice(f, 0, None)]\n",
    "    if shuffle:\n",
    "        np.random.shuffle(raw_ratings)\n",
    "\n",
    "    raw_len = len(raw_ratings)\n",
    "    train = raw_ratings[:500]\n",
    "    test = raw_ratings[100:1000]\n",
    "    for i in train :\n",
    "        try :\n",
    "            watched_movies[i[0]].append(i[1])\n",
    "        except KeyError :\n",
    "            watched_movies[i[0]] = list()\n",
    "            watched_movies[i[0]].append(i[1])\n",
    "            \n",
    "            "
   ]
  },
  {
   "cell_type": "code",
   "execution_count": 13,
   "metadata": {
    "scrolled": true
   },
   "outputs": [],
   "source": [
    "Read_Data(file_name,True)"
   ]
  },
  {
   "cell_type": "code",
   "execution_count": 14,
   "metadata": {},
   "outputs": [
    {
     "data": {
      "text/plain": [
       "['197']"
      ]
     },
     "execution_count": 14,
     "metadata": {},
     "output_type": "execute_result"
    }
   ],
   "source": [
    "watched_movies['523']"
   ]
  },
  {
   "cell_type": "code",
   "execution_count": null,
   "metadata": {},
   "outputs": [],
   "source": []
  }
 ],
 "metadata": {
  "kernelspec": {
   "display_name": "Python 3",
   "language": "python",
   "name": "python3"
  },
  "language_info": {
   "codemirror_mode": {
    "name": "ipython",
    "version": 3
   },
   "file_extension": ".py",
   "mimetype": "text/x-python",
   "name": "python",
   "nbconvert_exporter": "python",
   "pygments_lexer": "ipython3",
   "version": "3.6.5"
  }
 },
 "nbformat": 4,
 "nbformat_minor": 2
}
