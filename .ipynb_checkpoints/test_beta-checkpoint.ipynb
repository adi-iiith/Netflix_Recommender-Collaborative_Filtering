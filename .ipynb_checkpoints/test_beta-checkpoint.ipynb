{
 "cells": [
  {
   "cell_type": "code",
   "execution_count": 42,
   "metadata": {},
   "outputs": [],
   "source": [
    "import numpy as np\n",
    "from scipy.sparse import csr_matrix\n",
    "import pandas as pd\n",
    "from datetime import datetime\n",
    "import os\n",
    "import itertools\n",
    "import math\n",
    "from random import random"
   ]
  },
  {
   "cell_type": "code",
   "execution_count": 43,
   "metadata": {},
   "outputs": [],
   "source": [
    "npzfile = np.load(\"../predictions.npz\")"
   ]
  },
  {
   "cell_type": "code",
   "execution_count": 44,
   "metadata": {},
   "outputs": [],
   "source": [
    "user = npzfile['arr_0'].tolist()\n",
    "item = npzfile['arr_1'].tolist()\n",
    "rating = npzfile['arr_2'].tolist()"
   ]
  },
  {
   "cell_type": "code",
   "execution_count": 84,
   "metadata": {},
   "outputs": [
    {
     "data": {
      "text/plain": [
       "[[4.346704398358171, '286'],\n",
       " [3.922339620784242, '604'],\n",
       " [3.5140981163559077, '318'],\n",
       " [3.383857121190669, '172'],\n",
       " [3.038413068601718, '484'],\n",
       " [2.9918176517359627, '173']]"
      ]
     },
     "execution_count": 84,
     "metadata": {},
     "output_type": "execute_result"
    }
   ],
   "source": [
    "user_movie = dict()\n",
    "for i in range(len(user)):\n",
    "    temp = [rating[i],item[i]]\n",
    "    try :\n",
    "        user_movie[user[i]].append(temp)\n",
    "        user_movie[user[i]].sort(reverse=True)\n",
    "    except KeyError :\n",
    "        user_movie[user[i]] = list()\n",
    "        user_movie[user[i]].append(temp)\n",
    "    \n",
    "user_movie['202']"
   ]
  },
  {
   "cell_type": "code",
   "execution_count": 53,
   "metadata": {},
   "outputs": [],
   "source": [
    "file_name = \"../input/u.data\"\n",
    "watched_movies = dict()\n",
    "def parse_line(line):\n",
    "    line = line.split(\"\\t\")\n",
    "    uid, iid, r, timestamp = (line[i].strip() for i in range(4))\n",
    "    return uid, iid, float(r), timestamp\n",
    "\n",
    "def Read_Data(file_name,shuffle=True) :\n",
    "    global watched_movies\n",
    "    with open(os.path.expanduser(file_name)) as f:\n",
    "        raw_ratings = [parse_line(line) for line in itertools.islice(f, 0, None)]\n",
    "    if shuffle:\n",
    "        np.random.seed(73)\n",
    "        np.random.shuffle(raw_ratings)\n",
    "\n",
    "    raw_len = len(raw_ratings)\n",
    "    train = raw_ratings[:math.ceil(raw_len*0.8)]\n",
    "    test = raw_ratings[math.ceil(raw_len*0.8):]\n",
    "    for i in train :\n",
    "        try :\n",
    "            watched_movies[i[0]].append(i[1])\n",
    "        except KeyError :\n",
    "            watched_movies[i[0]] = list()\n",
    "            watched_movies[i[0]].append(i[1])\n",
    "            \n",
    "            "
   ]
  },
  {
   "cell_type": "code",
   "execution_count": 54,
   "metadata": {
    "scrolled": true
   },
   "outputs": [],
   "source": [
    "Read_Data(file_name,True)"
   ]
  },
  {
   "cell_type": "code",
   "execution_count": 55,
   "metadata": {},
   "outputs": [
    {
     "data": {
      "text/plain": [
       "['242',\n",
       " '172',\n",
       " '1',\n",
       " '604',\n",
       " '191',\n",
       " '258',\n",
       " '283',\n",
       " '481',\n",
       " '96',\n",
       " '286',\n",
       " '423',\n",
       " '173',\n",
       " '179']"
      ]
     },
     "execution_count": 55,
     "metadata": {},
     "output_type": "execute_result"
    }
   ],
   "source": [
    "watched_movies['202']"
   ]
  },
  {
   "cell_type": "code",
   "execution_count": 139,
   "metadata": {},
   "outputs": [],
   "source": [
    "f = \"../input/u.item\"\n",
    "movie_dict = dict()\n",
    "def Read_Data_pipe(file_name,shuffle=True) :\n",
    "    global movie_dict\n",
    "    global watched_movies\n",
    "    with open(os.path.expanduser(file_name)) as f:\n",
    "        raw_ratings = [parse_line_pipe(line) for line in itertools.islice(f, 0, None)]\n",
    "    for i in range(len(raw_ratings)):\n",
    "        movie_dict[raw_ratings[i][0]] = raw_ratings[i][1:]\n",
    "    return raw_ratings\n",
    "def parse_line_pipe(line):\n",
    "    line = line.split(\"|\")\n",
    "    return line\n",
    "mdata = Read_Data_pipe(f)"
   ]
  },
  {
   "cell_type": "code",
   "execution_count": 145,
   "metadata": {},
   "outputs": [],
   "source": [
    "seen_by_user = dict()\n",
    "pred_for_user = dict()\n",
    "for k in user_movie :\n",
    "    mov = user_movie[k]\n",
    "    for i in mov:\n",
    "        ele = i[1]\n",
    "        if ele not in watched_movies[k]:\n",
    "            m_predict = movie_dict[ele]\n",
    "            try :\n",
    "                pred_for_user[k].append(m_predict)\n",
    "            except KeyError :\n",
    "                pred_for_user[k] = list()\n",
    "                pred_for_user[k].append(m_predict)                    \n",
    "        else:\n",
    "            m_seen = movie_dict[ele]\n",
    "            try :\n",
    "                seen_by_user[k].append(m_seen)\n",
    "            except KeyError :\n",
    "                seen_by_user[k] = list()\n",
    "                seen_by_user[k].append(m_seen)"
   ]
  },
  {
   "cell_type": "code",
   "execution_count": 163,
   "metadata": {},
   "outputs": [
    {
     "name": "stdout",
     "output_type": "stream",
     "text": [
      "Bullets Over Broadway (1994)\n"
     ]
    }
   ],
   "source": [
    "print((pred_for_user['523'][i][j])) # i is the item(movie) and j is the corresponding entry for that movie"
   ]
  },
  {
   "cell_type": "code",
   "execution_count": null,
   "metadata": {},
   "outputs": [],
   "source": [
    "item = (movie_dict[mov[1]])"
   ]
  }
 ],
 "metadata": {
  "kernelspec": {
   "display_name": "Python 3",
   "language": "python",
   "name": "python3"
  },
  "language_info": {
   "codemirror_mode": {
    "name": "ipython",
    "version": 3
   },
   "file_extension": ".py",
   "mimetype": "text/x-python",
   "name": "python",
   "nbconvert_exporter": "python",
   "pygments_lexer": "ipython3",
   "version": "3.7.3"
  }
 },
 "nbformat": 4,
 "nbformat_minor": 2
}
