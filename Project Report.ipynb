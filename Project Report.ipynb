{
 "cells": [
  {
   "cell_type": "markdown",
   "metadata": {},
   "source": [
    "## Project Id : 29"
   ]
  },
  {
   "cell_type": "markdown",
   "metadata": {},
   "source": [
    "## Project Title : A Multifaceted Collaborative Filtering(CF) Model : Recommendation Systems"
   ]
  },
  {
   "cell_type": "markdown",
   "metadata": {},
   "source": [
    "<h2>Description: </h2><br>\n",
    "1.CF deals with building recommendation systems like movie recommender on netflix based on your reviews and choices.<br>\n",
    "2. Implement baseline CF models mentioned in paper(SVD based).<br>\n",
    "3. Improve them using technique specified in paper.<br>\n",
    "4. Evaluate using proper metric."
   ]
  },
  {
   "cell_type": "markdown",
   "metadata": {},
   "source": [
    "### Table of contents: (to be edited)\n",
    "    • Title & Cover Page\n",
    "    • Acknowledgements\n",
    "    • Abstract or Summary of the project\n",
    "    • Introduction of topic\n",
    "    • Body of the Project\n",
    "    • End user documentation\t\n",
    "    • Analysis and Results\n",
    "    • Conclusion\n",
    "    • Future Scope\n",
    "    • References\n"
   ]
  },
  {
   "cell_type": "markdown",
   "metadata": {},
   "source": [
    "## Abstract or summary of the project:\n",
    "The project is developed in python to demonstrate \n",
    "Graphs are used to demonstrate:\n",
    "\n",
    "<enter text here>\n",
    "\n"
   ]
  },
  {
   "cell_type": "markdown",
   "metadata": {},
   "source": [
    "## Introduction of topic:\n",
    "In order to establish recommendations, CF systems need to compare fundamentally different objects: items against users. There are two primary approaches to facilitate such a comparison, which constitute the two main disciplines of CF: the neighborhood approach and latent factor models.\n",
    "\n",
    "Neighborhood methods are centered on computing the relationships between items or, alternatively, between users. An item oriented approach evaluates the preference of a user to an item based on ratings of similar items by the same user. In a sense, these methods transform users to the item space by viewing them as baskets of rated items. This way, we no longer need to compare users to items, but rather directly relate items to items.\n",
    "\n",
    "Latent factor models, such as Singular Value Decomposition (SVD),comprise an alternative approach by transforming both items and users to the same latent factor space, thus making them directly comparable. The latent space tries to explain ratings by characterizing both products and users on factors automatically inferred from user feedback. For example, when the products are movies, factors might measure obvious dimensions such as comedy vs. drama, amount of action, or orientation to children; less well defined dimensions such as depth of character development or “quirkiness”; or completely uninterpretable dimensions.\n"
   ]
  },
  {
   "cell_type": "markdown",
   "metadata": {},
   "source": [
    "<h3>Github link</h3><br>\n",
    "https://github.com/adi-iiith/Netflix_Recommender-Collaborative_Filtering"
   ]
  },
  {
   "cell_type": "markdown",
   "metadata": {},
   "source": [
    "<h3> Team Members </h3>\n",
    "<br>1. Aditya Tewari - 2018201082\n",
    "<br>2. Akshansh Sharma - 2018201081\n",
    "<br>3. Aishwarya Shivachandra - 2018202005\n",
    "<br>4. Sandeep Gupta - 2018201076"
   ]
  },
  {
   "cell_type": "markdown",
   "metadata": {},
   "source": [
    "<h3>Main goals of the project</h3>\n",
    "<br>1. To harness the power of Collaborative Filtering in order to recommend titles on Netflix to the users.\n",
    "<br>2. A better evaluation technique for our model"
   ]
  },
  {
   "cell_type": "markdown",
   "metadata": {},
   "source": [
    "<h3>Problem definition</h3><br>\n",
    "Recommender Systems are used as a tool in machine learning to make some informed decision about recommending certain product. These systems often rely on Collaborating Filtering (CF), where past transactions are analyzed in order to\n",
    "establish connections between users and products. We will attempt to use this in order to apply recommendation on Netflix data."
   ]
  },
  {
   "cell_type": "markdown",
   "metadata": {},
   "source": [
    "<h3>Results of the project</h3>\n",
    "<br>1. A recommender system which is capable of recommending Netflix titles to the users.\n",
    "<br>2. A metric on which we evaluate this system's recommendations."
   ]
  },
  {
   "cell_type": "markdown",
   "metadata": {},
   "source": [
    "<h3>Tasks for each member</h3><br>\n",
    "As of now, each of us is exploring the topic and gathering information, and learning about recommender systems and their types in relation to our project. Workload division would be done as soon as we familiarize ourselves with the essential background of recommender systems."
   ]
  },
  {
   "cell_type": "markdown",
   "metadata": {},
   "source": [
    "<h3>Project milestones </h3><br>\n",
    "We expect to start working on our project from 17th March (right after mid sem 2). We are determined to finish our work on time and to also adhere to the guidelines as mentioned. "
   ]
  }
 ],
 "metadata": {
  "kernelspec": {
   "display_name": "Python 2",
   "language": "python",
   "name": "python2"
  },
  "language_info": {
   "codemirror_mode": {
    "name": "ipython",
    "version": 2
   },
   "file_extension": ".py",
   "mimetype": "text/x-python",
   "name": "python",
   "nbconvert_exporter": "python",
   "pygments_lexer": "ipython2",
   "version": "2.7.15rc1"
  }
 },
 "nbformat": 4,
 "nbformat_minor": 2
}
