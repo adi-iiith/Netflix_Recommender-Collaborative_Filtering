{
 "cells": [
  {
   "cell_type": "markdown",
   "metadata": {},
   "source": [
    "## Project Id : 29"
   ]
  },
  {
   "cell_type": "markdown",
   "metadata": {},
   "source": [
    "## Project Title : A Multifaceted Collaborative Filtering(CF) Model : Recommendation Systems"
   ]
  },
  {
   "cell_type": "markdown",
   "metadata": {},
   "source": [
    "<h2>Description: </h2><br>\n",
    "1.CF deals with building recommendation systems like movie recommender on netflix based on your reviews and choices.<br>\n",
    "2. Implement baseline CF models mentioned in paper(SVD based).<br>\n",
    "3. Improve them using technique specified in paper.<br>\n",
    "4. Evaluate using proper metric."
   ]
  },
  {
   "cell_type": "markdown",
   "metadata": {},
   "source": [
    "## Table of contents: (to be edited)\n",
    "    • Title\n",
    "    • Team members\n",
    "    • GitHub repository\n",
    "    • Acknowledgements (reqd?)\n",
    "    • Problem statement\n",
    "    • Abstract or Summary of the project\n",
    "    • Introduction of topic\n",
    "    • Data collection/exploration\n",
    "    • Data preprocessing\n",
    "    • Analysis and Results\n",
    "    • Model evaluation and validation\n",
    "    • Work distribution    \n",
    "    • Challenges faced\n",
    "    • Conclusion(?)\n",
    "    • Technologies used(?)\n",
    "    • Future Scope\n",
    "    • References\n"
   ]
  },
  {
   "cell_type": "markdown",
   "metadata": {},
   "source": [
    "<h2> Team Members </h2>\n",
    "<br>1. Aditya Tewari - 2018201082\n",
    "<br>2. Akshansh Sharma - 2018201081\n",
    "<br>3. Aishwarya Shivachandra - 2018202005\n",
    "<br>4. Sandeep Gupta - 2018201076"
   ]
  },
  {
   "cell_type": "markdown",
   "metadata": {},
   "source": [
    "## GitHub repository\n",
    "https://github.com/adi-iiith/Netflix_Recommender-Collaborative_Filtering"
   ]
  },
  {
   "cell_type": "markdown",
   "metadata": {},
   "source": [
    "## Problem statement\n",
    "Recommender Systems are used as a tool in machine learning to make some informed decision about recommending certain product. These systems often rely on Collaborating Filtering (CF), where past transactions are analyzed in order to\n",
    "establish connections between users and products. We will attempt to use this in order to apply recommendation on Netflix data."
   ]
  },
  {
   "cell_type": "markdown",
   "metadata": {},
   "source": [
    "## Main goals of the project\n",
    "1. To harness the power of Collaborative Filtering in order to recommend titles on Netflix to the users.\n",
    "2. A better evaluation technique for our model"
   ]
  },
  {
   "cell_type": "markdown",
   "metadata": {},
   "source": [
    "## Abstract or summary of the project\n",
    "In this project, we analyse the different kinds of recommendation systems and compare their performance on the MovieLens dataset. Further, we build a more accurate combined model by merging the factor and neighborhood models, using user-based collaborative filtering results in the lowest Mean Squared Error on our dataset.\n"
   ]
  },
  {
   "cell_type": "markdown",
   "metadata": {},
   "source": [
    "## Dataset Used\n",
    "For this project,we have used MovieLens dataset, which is one of the standard datasets used for implementing and testing recommender engines.\n",
    "\n",
    "MovieLens data sets were collected by the GroupLens Research Project at the University of Minnesota.\n",
    " \n",
    "This data set consists of:\n",
    "\t* 100,000 ratings (1-5) from 943 users on 1682 movies. \n",
    "\t* Each user has rated at least 20 movies. \n",
    "(?)        * Simple demographic info for the users (age, gender, occupation, zip)\n",
    "\n",
    "\n",
    "-The ratings are at intervals of 0.5 on a 5-point scale,starting from 0.5 and going to 5.\n",
    "<br>-All selected users had rated at least 20 movies.\n",
    "<br>-No demographic information is included. \n",
    "<br>-Each user is represented by an id, and no other information is provided.\n",
    "<br>\n",
    "The dataset has additional information about the movies in the form of genre and tags, however we use only the ratings given by the users to the movies and ignore the other information for the collaborative filtering techniques. \n",
    "\n",
    "\n",
    "\n",
    "\n",
    "We split each dataset into three partitions: training, validation\n",
    "and test by sampling randomly in the ratios 80%, 10%, 10% respectively.\n",
    "The validation partition is used to tune the hyper-parameters for the nearest neighbor and latent factor algorithms. \n"
   ]
  },
  {
   "cell_type": "markdown",
   "metadata": {},
   "source": [
    "## Introduction of topic/ Literature Review\n",
    "\n",
    "A recommendation system is a type of information filtering system which attempts to predict the preferences of a user, and make suggests based on these preferences.\n",
    "\n",
    "Two main approaches are widely used for recommender systems. One is content-based filtering, where we try to profile the users interests using information collected, and recommend items based on that profile. The other is collaborative filtering, where we try to group similar users together and use information about the group to make recommendations to the user.\n",
    "\n",
    "Recommender systems are often based on Collaborative Filtering (CF), which relies only on past user behavior.\n",
    "\n",
    "There are two primary approaches to facilitate comparison of items v/s users, which constitute the two main disciplines of CF: the neighborhood approach and latent factor models.\n",
    "\n",
    "Neighborhood methods are centered on computing the relationships between items or, alternatively, between users. An item oriented approach evaluates the preference of a user to an item based on ratings of similar items by the same user. In a sense, these methods transform users to the item space by viewing them as baskets of rated items. This way, we no longer need to compare users to items, but rather directly relate items to items.\n",
    "\n",
    "Latent factor models, such as Singular Value Decomposition (SVD),comprise an alternative approach by transforming both items and users to the same latent factor space, thus making them directly comparable. The latent space tries to explain ratings by characterizing both products and users on factors automatically inferred from user feedback. For example, when the products are movies, factors might measure obvious dimensions such as comedy vs. drama, amount of action, or orientation to children; less well defined dimensions such as depth of character development or “quirkiness”; or completely uninterpretable dimensions.\n",
    "\n",
    "\n",
    "Neighborhood models are most effective at detecting very localized relationships. They rely on a few significant neighborhood-relations, often ignoring the vast majority of ratings by a user. Consequently, these methods are unable to capture the totality of weak signals encompassed in all of a user’s ratings. \n",
    "\n",
    "Latent factor models are generally effective at estimating overall structure that relates simultaneously to most or all items. However, these models are poor at detecting strong associations among a small set of closely related items, precisely where neighborhood models do best.\n",
    "<br><b>\n",
    "In this projec, we build a combined model that improves prediction accuracy by capitalizing on the advantages of both neighborhood and latent factor approaches.</b>"
   ]
  },
  {
   "cell_type": "markdown",
   "metadata": {},
   "source": [
    "## NEIGHBORHOOD MODEL\n",
    "\n",
    "\n",
    "<img src = \"https://i.imgur.com/GIbz5wr.png\" width=\"400px\" height=\"100px\" align=\"left\"></img>\n",
    "\n",
    "<br><br><br><br><br><br>\n",
    "\n",
    "## SVD++ MODEL\n",
    "<img src = \"https://i.imgur.com/RHVplnq.png\" width=\"400px\" height=\"200px\" align=\"left\"></img>\n",
    "\n",
    "<br><br><br><br><br>\n",
    "\n",
    "## INTEGRATED MODEL\n",
    "We integrate the neighborhood model with our\n",
    "most accurate factor model – SVD++. A combined model sums the predictions, thereby allowing neighborhood\n",
    "and factor models to enrich each other, as follows:\n",
    "\n",
    "\n",
    "<img src = \"https://i.imgur.com/0WaboJD.png\" width=\"500px\" height=\"250px\" align=\"left\"></img>\n",
    "\n",
    "<br><br><br><br><br><br><br>\n",
    "This equation, provides a 3-tier model for recommendations\n",
    "\n",
    "-The first tier,<b> μ + b_u + b_i </b>, describes general properties of the item and the user, without accounting for any involved interactions.\n",
    "For example, this tier could argue that “The Sixth Sense” movie is known to be good, and that the rating # scale of our user, Joe, tends to $ 1 \" be just on average. \n",
    "\n",
    "-The next tier,\n",
    "\n",
    "<img src = \"https://i.imgur.com/1hpieaw.png\" width=\"200px\" height=\"120px\" align=\"left\"></img>\n",
    "<br><br><br>\n",
    "\n",
    "provides the interaction between the user profile and the item profile. In our example, it may find that “The Sixth Sense” and Joe are rated high on the Psychological Thrillers scale.\n",
    "\n",
    "-The final “neighborhood tier” contributes fine grained adjustments that are hard to profile, such as the fact that Joe rated low the related movie “Signs”.\n",
    "Model parameters are determined by minimizing the associated regularized squared error function through gradient descent. <b>\n",
    "<br>e ui = r_ui − r̂_ui</b>\n",
    "\n",
    "We loop over all known ratings in K. For a given training case r_ui , we modify the parameters by moving in\n",
    "the opposite direction of the gradient, yielding:\n",
    "\n",
    "<img src = \"https://i.imgur.com/6dpm263.png\" width=\"500px\" height=\"600px\" align=\"left\"></img>\n"
   ]
  },
  {
   "cell_type": "markdown",
   "metadata": {},
   "source": [
    "\n",
    "\n",
    "When evaluating the method on the Netflix data, we used the following values for the meta parameters:<br>\n",
    "γ 1 = γ 2 = 0.007, <br>\n",
    "γ 3 =0.001, <br>λ 6 = 0.005,<br> λ 7 = λ 8 = 0.015.<br>It is beneficial to decrease step sizes (the γ’s) by a factor of 0.9 after each iteration. The neighborhood size, k, was set to 300. \n",
    "\n",
    "\n",
    "In this project,we have lowered the RMSE to 0.8870. \n"
   ]
  },
  {
   "cell_type": "markdown",
   "metadata": {},
   "source": [
    "## Model evaluation and validation\n",
    "\n",
    "=>Evaluate the performance of various methods on MovieLens dataset\n",
    "\n",
    "<tables>\n",
    "Table 1: Comparison of SVD-based models: prediction accuracy is measured by RMSE on the Netflix test set for varying number of factors (f ). Asymmetric-SVD offers practical advantages over the known SVD model, while slightly improving accuracy. <b>Best accuracy is achieved by SVD++</b>, which directly incorporates implicit feedback into the SVD model.\n",
    "\n",
    "<br>\n",
    "Table 2: Performance of the integrated model. Prediction accuracy is improved by combining the complementing neighborhood and latent factor models. Increasing the number of factors contributes to accuracy, but also adds to running time."
   ]
  },
  {
   "cell_type": "markdown",
   "metadata": {},
   "source": [
    "## Analysis and Results of the project\n",
    "1. A recommender system which is capable of recommending Netflix titles to the users.<br>\n",
    "2. A metric on which we evaluate this system's recommendations."
   ]
  },
  {
   "cell_type": "markdown",
   "metadata": {},
   "source": [
    "## Work Distribution\n",
    "At the beginning stage, all members explored the topic and spent time in learning about recommender systems and their types in relation to our project. Then, keeping in mind the deliverables of this project, all tasks were was divided into a number of modules. And after that,in order to better utilize the limited time and resources, workload of the project was divided in two workgroups:\n",
    "<br>1)Sandeep and Aditya worked on the Integrated model\n",
    "<br>2)Aishwarya and Akshansh worked on the SVDPP model\n",
    "\n",
    "Since all modules have interdependencies, so integration of functionalities added after every update was done from time to time to avoid incompatibility of the whole code."
   ]
  },
  {
   "cell_type": "markdown",
   "metadata": {},
   "source": [
    "## Challenges/ Issues faced\n",
    "One of the major challenges in working with the dataset is memory constraints. The data cannot be stored as a dense matrix due to its huge size. \n",
    "\n",
    "We had to make use of sparse matrix representations in order for the program to work without memory issues. \n",
    "\n",
    "Further, intermediate results such as the user-user similarity matrix cannot be computed and stored due to the huge memory footprint. We had to think of ways to compute the similarity values as and when needed. Further, the dataset also needed a lot of time to run a single epoch while training.\n",
    "\n",
    "in collaborative filtering-disadvantage is sparsity of data."
   ]
  },
  {
   "cell_type": "markdown",
   "metadata": {},
   "source": [
    "## Future Scope\n",
    "\n",
    "There are plenty of ways to expand on the work done in this project.\n",
    "Firstly, the content based method can be built to include more criteria to help categorize the movies. The most obvious ideas is to add features to suggest movies with common actors, directors or writers. In addition, movies released within the same time period could also receive a boost in likelihood for recommendation.\n",
    "\n",
    "Similarly, the movies total gross could be used to identify a users taste in terms of whether he/she prefers large release blockbusters, or smaller indie films. However, the above ideas may lead to overfitting,\n",
    "given that a users taste can be highly varied, and we only have a guarantee that 20 movies (less than 0.2%) have been reviewed by the user.\n",
    "\n",
    "<br>\n",
    "In addition, we could try to develop hybrid methods that try to combine the advantages of both content-based methods and collaborative filtering into one recommendation system."
   ]
  },
  {
   "cell_type": "markdown",
   "metadata": {},
   "source": [
    "## References\n",
    "1. For standard MovieLens dataset: https://www.kaggle.com/prajitdatta/movielens-100k-dataset#ml-100k.zip<br>\n",
    "2. https://pdfs.semanticscholar.org/767e/ed55d61e3aba4e1d0e175d61f65ec0dd6c08.pdf\n",
    "3. https://scholarworks.sjsu.edu/cgi/viewcontent.cgi?article=1096&context=etd_projects"
   ]
  }
 ],
 "metadata": {
  "kernelspec": {
   "display_name": "Python 2",
   "language": "python",
   "name": "python2"
  },
  "language_info": {
   "codemirror_mode": {
    "name": "ipython",
    "version": 2
   },
   "file_extension": ".py",
   "mimetype": "text/x-python",
   "name": "python",
   "nbconvert_exporter": "python",
   "pygments_lexer": "ipython2",
   "version": "2.7.15rc1"
  }
 },
 "nbformat": 4,
 "nbformat_minor": 2
}
